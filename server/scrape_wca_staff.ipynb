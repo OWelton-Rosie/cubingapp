{
 "cells": [
  {
   "cell_type": "code",
   "execution_count": null,
   "metadata": {},
   "outputs": [],
   "source": [
    "import requests\n",
    "\n",
    "API_URL = \"https://www.worldcubeassociation.org/api/v0\"\n",
    "API_PARAMS = \"&isActive=true&isHidden=false&per_page=100\"\n",
    "\n",
    "def parse_roles(data):\n",
    "    roles = []\n",
    "    for role in data:\n",
    "        wca_id = role[\"user\"][\"wca_id\"]\n",
    "        group_name = role[\"group\"][\"name\"]\n",
    "        group_type = role[\"group\"][\"group_type\"]\n",
    "\n",
    "        if not wca_id or not group_type:\n",
    "            continue\n",
    "\n",
    "        roles.append((wca_id, group_name, group_type))\n",
    "\n",
    "    # De-duplicate\n",
    "    roles = list(set(roles))\n",
    "\n",
    "    # Sort by group_type, then group_name, then wca_id\n",
    "    roles = sorted(roles, key=lambda x: x[2] + x[1] + x[0])\n",
    "\n",
    "    return roles\n",
    "\n",
    "# This function is for group types that don't have subgroups\n",
    "def get_roles(group_type):\n",
    "    print(f\"Fetching {group_type}\")\n",
    "    data = requests.get(f\"{API_URL}/user_roles?groupType={group_type}{API_PARAMS}\").json()\n",
    "    return parse_roles(data)\n",
    "\n",
    "# This function is for group types that have subgroups\n",
    "def get_groups_then_roles(group_type):\n",
    "    print(f\"Fetching {group_type} groups\")\n",
    "    data = requests.get(f\"{API_URL}/user_groups?groupType={group_type}{API_PARAMS}\").json()\n",
    "    group_ids = [group[\"id\"] for group in data]\n",
    "\n",
    "    roles = []\n",
    "\n",
    "    for i, group_id in enumerate(group_ids):\n",
    "        print(f\"Group {group_id} ({i+1}/{len(group_ids)})\")\n",
    "        data = requests.get(f\"{API_URL}/user_roles?groupId={group_id}{API_PARAMS}\").json()\n",
    "        roles.extend(parse_roles(data))\n",
    "    \n",
    "    return roles"
   ]
  },
  {
   "cell_type": "code",
   "execution_count": null,
   "metadata": {},
   "outputs": [],
   "source": [
    "officers_roles = get_roles(\"officers\")\n",
    "board_roles = get_roles(\"board\")\n",
    "translators_roles = get_roles(\"translators\")\n",
    "\n",
    "delegates_roles = get_groups_then_roles(\"delegate_regions\")\n",
    "teams_committees_roles = get_groups_then_roles(\"teams_committees\")"
   ]
  },
  {
   "cell_type": "code",
   "execution_count": null,
   "metadata": {},
   "outputs": [],
   "source": [
    "import pandas as pd\n",
    "\n",
    "# Put all roles in one dataframe\n",
    "df = pd.DataFrame(\n",
    "    officers_roles + board_roles + translators_roles + delegates_roles + teams_committees_roles,\n",
    "    columns=[\"wca_id\", \"group_name\", \"group_type\"],\n",
    ")\n",
    "df.to_csv(\"WCA_export/Staff.tsv\", index=False, sep=\"\\t\")\n",
    "df.head()"
   ]
  }
 ],
 "metadata": {
  "kernelspec": {
   "display_name": "Python 3",
   "language": "python",
   "name": "python3"
  },
  "language_info": {
   "codemirror_mode": {
    "name": "ipython",
    "version": 3
   },
   "file_extension": ".py",
   "mimetype": "text/x-python",
   "name": "python",
   "nbconvert_exporter": "python",
   "pygments_lexer": "ipython3",
   "version": "3.11.9"
  }
 },
 "nbformat": 4,
 "nbformat_minor": 2
}
